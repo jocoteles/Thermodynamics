{
  "nbformat": 4,
  "nbformat_minor": 0,
  "metadata": {
    "colab": {
      "name": "Modelo_de_relatorio.ipynb",
      "provenance": [],
      "collapsed_sections": [],
      "toc_visible": true,
      "authorship_tag": "ABX9TyP91pxHMZzE/DMDa/SWKZts",
      "include_colab_link": true
    },
    "kernelspec": {
      "name": "python3",
      "display_name": "Python 3"
    },
    "language_info": {
      "name": "python"
    }
  },
  "cells": [
    {
      "cell_type": "markdown",
      "metadata": {
        "id": "view-in-github",
        "colab_type": "text"
      },
      "source": [
        "<a href=\"https://colab.research.google.com/github/jocoteles/Thermodynamics/blob/master/Modelo_de_relatorio.ipynb\" target=\"_parent\"><img src=\"https://colab.research.google.com/assets/colab-badge.svg\" alt=\"Open In Colab\"/></a>"
      ]
    },
    {
      "cell_type": "code",
      "metadata": {
        "id": "i-_FAnSoPaVg",
        "colab": {
          "base_uri": "https://localhost:8080/"
        },
        "cellView": "form",
        "outputId": "a13edad0-7a40-4ab0-edd7-0e7f90d7b35f"
      },
      "source": [
        "#@title Importação da biblioteca LabFisModColab (não mexer!)\n",
        "#Atenção: esta célula deve estar no início de todos os notebooks e não deve ser alterada\n",
        "#https://colab.research.google.com/github/mainak555/lb-ai/blob/ai/ColabMisc.ipynb\n",
        "!pip install import-ipynb\n",
        "import import_ipynb\n",
        "!pip install -U -q PyDrive\n",
        "from pydrive.auth import GoogleAuth\n",
        "from pydrive.drive import GoogleDrive\n",
        "from google.colab import auth\n",
        "from oauth2client.client import GoogleCredentials\n",
        "auth.authenticate_user()\n",
        "gauth = GoogleAuth()\n",
        "gauth.credentials = GoogleCredentials.get_application_default()\n",
        "drive = GoogleDrive(gauth)\n",
        "module = drive.CreateFile({'id':'1IN8t8JlQwqVzs8sdsxjxsacXsdWbJUYk'})\n",
        "module.GetContentFile('LabFisModColab.ipynb')\n",
        "from LabFisModColab import *"
      ],
      "execution_count": null,
      "outputs": [
        {
          "output_type": "stream",
          "text": [
            "Requirement already satisfied: import-ipynb in /usr/local/lib/python3.7/dist-packages (0.1.3)\n",
            "importing Jupyter notebook from LabFisModColab.ipynb\n"
          ],
          "name": "stdout"
        }
      ]
    },
    {
      "cell_type": "markdown",
      "metadata": {
        "id": "y4TNf5DEx_Z0"
      },
      "source": [
        "# Título do Relatório\n",
        "***\n",
        "**Nome completo estudante 1** (nome1@estudande.ufscar.br)<br>\n",
        "**Nome completo estudante 2** (nome2@estudande.ufscar.br)<br>\n",
        "**Nome completo estudante 3** (nome3@estudande.ufscar.br)<br><br>\n",
        "\n",
        "Disciplina de Laboratório de Física Moderna<br>\n",
        "Curso de Licenciatura em Física<br>\n",
        "Campus Araras/Universidade Federal de São Carlos<br><br>\n",
        "\n",
        "*Data de início: XX/XX/XXXX*<br>\n",
        "*Data de entrega: XX/XX/XXXX*"
      ]
    },
    {
      "cell_type": "markdown",
      "metadata": {
        "id": "rCXRZmQqhExH"
      },
      "source": [
        "# 1. Introdução"
      ]
    },
    {
      "cell_type": "markdown",
      "metadata": {
        "id": "Ti3C3ZoM7icE"
      },
      "source": [
        "Este modelo tem como objetivo apresentar tanto o formato no qual o relatório das atividades deverá ser registrado e exposto quanto as ferramentas computacionais que serão utilizadas no tratamento, organização e exposição dos dados experimentais.\n",
        "\n",
        "A ferramenta computacional principal escolhida é o chamado *Jupyter Notebook* que será online no ambiente Google Colaboratory.\n",
        "\n",
        "A escrita colaborativa e integrada a conjuntos de dados coletivos na comunidade científica tem sido feita utilizando ferramentas versáteis e integradas como o Jupyter Notebook. Apenas para citar três exemplos, temos primeiramente o uso para análises extremamente versáteis de grandes bancos de dados realizados por grandes empresas de tecnologia de informação como a IBM. Um segundo exemplo é um <a href=\"https://drive.google.com/file/d/1DHdPQjLLFpGzrHXklDs7Wmz9PAFtBLw9/view?usp=sharing\">trabalho recentemente publicado na revista Nature</a> em que os autores demonstram a eficiência de ferramentas web para análises de difusão em imagens por ressonância magética. Parte das análises do trabalho são feitas usando o Jupyter notebook e foram disponibilizados para que os leitores interessados possam acompanhar como foram realizados os processamentos. Para experimentar o potencial do Jupyter notebook, fica a sugestão de acesso ao [JupyterLabs](http://jupyter.org/try) que contém descrições mais completas sobre essa rica plataforma, incluindo um exemplo de notebook envolvendo ferramentas interativas para as equações diferenciais de Lorenz.\n",
        "\n",
        "A ideia é, portanto, unir em uma única ferramenta, os relatórios contendo a escrita científica, os modelos físicos, matemáticos e computacionais adotados, eventuais simulações e as análises dos dados. A construção do notebook se dará de maneira gradual à medida que o trabalho for avançando e mais de uma pessoa poderá alimentar o mesmo notebook (e.g. professor-aluno(s)). Ao final, será possível ter todas as atividades, modelos, descrições, análises, referências, etc. em uma única plataforma, cujo arquivo poderá ser exportado para diferentes formatos a depender da forma de comunicação que se pretenda fazer."
      ]
    },
    {
      "cell_type": "markdown",
      "metadata": {
        "id": "fdSd97N-hP3V"
      },
      "source": [
        "## 1.1 A linguagem de Markdown e o sistema de células do Jupyter notebook"
      ]
    },
    {
      "cell_type": "markdown",
      "metadata": {
        "id": "DaS_6BdFhLfv"
      },
      "source": [
        "O Jupyter notebook é uma ambiente de escrita de códigos e textos baseado em linguagens de programação por *script* como Python e LaTeX, em que diferentes partes do código podem ser implementados independentemente em uma *célula* contida em uma interface que roda diretamente no navegador de internet (*browser*) de sua preferência.\n",
        "\n",
        "Os principais tipos de células são as que armazenam informação de texto e são chamadas de *Markdown* e as que armazenam códigos de programação, sendo chamadas de *Code*. A escolha de qual desses tipos serão interpretados na célula pode ser feita pelo menu ou por teclas de atalho. Ao clicar na célula, entra-se no modo de edição. Ao clicar ESC, deixa-se a edição e se entra no modo de navegação. Por sinal, as teclas de atalho são muito uteis para dar agilidade na confecção e execução dos notebooks. Para conhecê-las, clique CTRL+M+H estando no modo navegação.\n",
        "\n",
        "No modo edição, os comandos (sejam de texto ou de código) são digitados linha por linha, em que cada linha encerra um comando completo. Para iniciar uma nova linha tecla-se enter. Ao longo de toda a escrita da célula, não há execução de comandos pelo Jupyter. Os comandos só serão executados ao teclar-se de dentro da célula a combinação SHIFT + ENTER ou através do menu."
      ]
    },
    {
      "cell_type": "markdown",
      "metadata": {
        "id": "Sx3Cdc_mhgp8"
      },
      "source": [
        "### 1.1.1 Guias para comandos de Markdown"
      ]
    },
    {
      "cell_type": "markdown",
      "metadata": {
        "id": "9Q2cO0ybhpDc"
      },
      "source": [
        "Este [guia de markdown do collaboratory](https://colab.research.google.com/notebooks/markdown_guide.ipynb) pode ser usado como consulta para os comandos em Markdown. Este outro [guia de markdown jupyter](https://www.datacamp.com/community/tutorials/markdown-in-jupyter-notebook) também é útil."
      ]
    },
    {
      "cell_type": "markdown",
      "metadata": {
        "id": "KxJXO8SrhujH"
      },
      "source": [
        "### 1.1.2 Guias para comandos LaTeX"
      ]
    },
    {
      "cell_type": "markdown",
      "metadata": {
        "id": "au-KtW_Fhcto"
      },
      "source": [
        "LaTeX é uma ferramenta para escrita científica focada principalmente na representação adequada de símbolos, equações e notações matemáticas em geral, tanto em suas formas algébricas ou geométricas. Ela é bastante ampla e poderosa e não temos a pretensão de explorá-la com profundidade neste roteiro. Tão pouco será exigido um conhecimento mais detalhado de LaTeX para a confecção dos relatórios. Focaremos apenas no básico da notação matemática, objetivando a confecção de trabalhos com qualidade tipográfica decente no contexto dos trabalhos científicos. Esperamos que, para aqueles que desconhecem LaTeX, esta seja uma oportunidade para um maior aprofundamento e uso em suas carreiras acadêmicas e profissionais.\n",
        "\n",
        "Sugerimos dois guias para o uso de comandos em LaTex. O [primeiro](https://pt.wikipedia.org/wiki/Ajuda:Guia_de_edi%C3%A7%C3%A3o/F%C3%B3rmulas_TeX) é bem direcionado aos comandos matemáticos, sendo suficiente para os nossos objetivos. O [segundo](https://www.math.univ-paris13.fr/~japhet/Doc/Latex/short-math-guide-1.pdf) é um guia mais detalhado e completo escrito pela American Mathematical Society.\n",
        "\n",
        "É possível que nem todos os comandos do LaTeX sejam executados corretamente dentro do Jupyter notebook. Os comandos LaTeX devem ser executados entre cifras. Por exemplo, a equação A + B = C, é escrita em LaTeX como $A+B=C$. O uso de cifras duplas implica na abertura de um ambiente matemático, por exemplo:\n",
        "$$\n",
        "A+B=C\n",
        "$$\n",
        "\n",
        "em que $A$ é a primeira letra do alfabeto e $B$ é a segunda.\n",
        "\n",
        "Uma equação um pouco mais elaborada:\n",
        "\n",
        "$$\n",
        "y = ax^{2} + \\frac{b+c}{d}e^{x} + \\cos(\\alpha x) - \\sin(\\beta x) \\tag{1}\n",
        "$$\n",
        "\n",
        "$$\n",
        "y = a_{1}x + a_{2}x^{2} + a_{3} \\tag{2}\n",
        "$$\n",
        "\n",
        "De acordo com a equação (2), $a_1$, $a_2$ e $a_3$ são parâmetros de ajuste e tal e tal. Estes são apenas exemplos. Repare que a numeração das equações é importante e é utilizado o comando \\tag{} para isso.\n",
        "\n",
        "Além dos guias de Markdown e LaTeX sugeridos, a escrita deste próprio roteiro pode ser esmiuçada editando-se suas células que servem como exemplo do uso dessas ferramentas."
      ]
    },
    {
      "cell_type": "markdown",
      "metadata": {
        "id": "J2WDBF22h5Wb"
      },
      "source": [
        "## 1.2 A linguagem Python"
      ]
    },
    {
      "cell_type": "markdown",
      "metadata": {
        "id": "LYH6ccxjh2U1"
      },
      "source": [
        "A linguagem de programação Python é uma das linguagens que pode ser usada no Jupyter notebook. Apresenta uma série de vantagens sobre linguagens mais antigas e tradicionais como Fortran e C/C++. Entre elas, está a sintaxe mais amigável e de mais alto nível (ela é uma linguagem interpretada mais próxima da linguagem humana e mais afastada da linguagem de máquina). Com isso, é uma ótima opção para quem ainda não tem experiência de programação. Possui uma enorme gama de funções e ferramentas disponíveis no formato de bibliotecas de programas, as quais são muito variadas: para quase tudo existe um conjunto de bibliotecas já implentada em Python. Trata-se também de uma linguagem moderna totalmente baseada no paradigma de programação orientada a objetos e programação funcional. Todas essas características tornam os códigos escritos em Python mais compactos e legíveis do que os implementados em C, por exemplo. Python só se torna desvantajoso quando é necessário criar funções e procedimentos específicos que demandam muitas operações computacionais. Nesses casos, nada se iguala às linguagens mais básicas como C ou C++. Ainda assim, é possível escrever bibliotecas otimizadas em C e compilá-las para serem carregadas como funções dentro do Python.\n",
        "\n",
        "Para que uma célula possa interpretar corretamente o código escrito nela como sendo Python, é necessário habiliá-la como *Code*. Isso pode ser feito pelo menu do Colaboratory ou pelas teclas de atalho: CTRL+M+M habilita *Markdown* e CTRL+M+Y habilita *Code*, ambos teclados no modo navegação.\n",
        "\n",
        "Assim como o LaTeX, não pretendemos nos aprofundar no Python. Exploraremos algumas funcionalidades essenciais para os relatórios que irão tocar a superfície do oceano de coisas que existem no Python. Existem muitas opções de [tutoriais](https://docs.python.org/pt-br/3/tutorial/) na internet, inclusive em português."
      ]
    },
    {
      "cell_type": "markdown",
      "metadata": {
        "id": "GPhj_vzGiHKc"
      },
      "source": [
        "## 1.3 Conteúdos que devem estar contidos na introdução"
      ]
    },
    {
      "cell_type": "markdown",
      "metadata": {
        "id": "0PsZc7MtiDMC"
      },
      "source": [
        "- Incluir na introdução um preâmbulo histórico para justificar a importância do experimento sendo realizado.\n",
        "- Fazer um levantamento bibliográfico citando alguns dos trabalhos mais pioneiros aos mais atuais.\n",
        "- Justificar a importância de se realizar esse experimento do ponto de vista científico.\n",
        "- Fazer um breve resumo dos métodos e modelos que serão empregados no trabalho e os resultados que se espera observar."
      ]
    },
    {
      "cell_type": "markdown",
      "metadata": {
        "id": "wblQkQ77-fJK"
      },
      "source": [
        "# 2. Fundamentação Teórica\n",
        "\n",
        "Todos os modelos utilizados devem ser detalhados nesta parte. Inicie com as equações mais fundamentais para os casos mais simples e conclua dando destaque às principais equações do modelo que descreve o experimento."
      ]
    },
    {
      "cell_type": "markdown",
      "metadata": {
        "id": "u532-wRiiQf4"
      },
      "source": [
        "## 2.1 Título de uma subseção"
      ]
    },
    {
      "cell_type": "markdown",
      "metadata": {
        "id": "rjqZMXiSia5y"
      },
      "source": [
        "Sempre utilize uma célula de texto exclusiva para cada título de seção ou subseção, ou de legendas de gráficos e tabelas. Repare como as células de texto estão divididas neste modelo de relatório.\n"
      ]
    },
    {
      "cell_type": "markdown",
      "metadata": {
        "id": "aOg3O9t1iV9y"
      },
      "source": [
        "## 2.2 Título de outra subseção"
      ]
    },
    {
      "cell_type": "markdown",
      "metadata": {
        "id": "gCb8KbCmica8"
      },
      "source": [
        "Lorem ipsum dolor sit amet, consectetur adipiscing elit, sed do eiusmod tempor incididunt ut labore et dolore magna aliqua. Ut enim ad minim veniam, quis nostrud exercitation ullamco laboris nisi ut aliquip ex ea commodo consequat. Duis aute irure dolor in reprehenderit in voluptate velit esse cillum dolore eu fugiat nulla pariatur. Excepteur sint occaecat cupidatat non proident, sunt in culpa qui officia deserunt mollit anim id est laborum."
      ]
    },
    {
      "cell_type": "markdown",
      "metadata": {
        "id": "TLOyKsVIihsL"
      },
      "source": [
        "# 3. Objetivos"
      ]
    },
    {
      "cell_type": "markdown",
      "metadata": {
        "id": "-jBtT8hl_MW1"
      },
      "source": [
        "Os objetivos devem ser separados em *gerais* e *específicos*. Atente-se que os objetivos aqui elencados deverão ser justificados qualitativa e quantitativamente se foram alcançados item por item na seção de *Conclusões*."
      ]
    },
    {
      "cell_type": "markdown",
      "metadata": {
        "id": "E8UPF1y3ilr7"
      },
      "source": [
        "# 4. Descrição do funcionamento do equipamento"
      ]
    },
    {
      "cell_type": "markdown",
      "metadata": {
        "id": "CLXCHJCX_Z_9"
      },
      "source": [
        "Faça a descrição do equipamento referindo-se a imagens ou diagramas. Dê mais ênfase nas partes que serão importantes para a tomada de dados."
      ]
    },
    {
      "cell_type": "markdown",
      "metadata": {
        "id": "F34LUrHan085"
      },
      "source": [
        "<img width='30%' src='https://drive.google.com/uc?id=1WY74PukY8VoAJNdBcujneDTtpBf_iX37'>"
      ]
    },
    {
      "cell_type": "markdown",
      "metadata": {
        "id": "9hJMm_4yn7H0"
      },
      "source": [
        "**Figura 1** - Equipamento do experimento tal (Fonte: manual tal)."
      ]
    },
    {
      "cell_type": "markdown",
      "metadata": {
        "id": "nV3TCTg_irXf"
      },
      "source": [
        "# 5. Estimativa de resultados e propagação de erros"
      ]
    },
    {
      "cell_type": "markdown",
      "metadata": {
        "id": "miMPeV8UEQfI"
      },
      "source": [
        "Fazer as estimativas e propagação de erros sempre fazendo menção às equações do modelo numeradas na seção de *Fundamentação Teórica*."
      ]
    },
    {
      "cell_type": "markdown",
      "metadata": {
        "id": "O6IC882Uiv3L"
      },
      "source": [
        "# 6. Procedimentos para coleta de dados"
      ]
    },
    {
      "cell_type": "markdown",
      "metadata": {
        "id": "-jrUkYAeKlFj"
      },
      "source": [
        "Esta é a última seção do pré-relatório.\n",
        "\n",
        "Os procedimentos podem ser detalhados na forma de uma lista. Por exemplo:\n",
        "\n",
        "- Ligar o equipamento e esperar pelo seu *aquecimento* em torno de 40 minutos\n",
        "- Verificar a corrente de saturação\n",
        "- Iniciar a tomada de dados referentes ao **potencial de corte**"
      ]
    },
    {
      "cell_type": "markdown",
      "metadata": {
        "id": "IQIiDjiBiyCu"
      },
      "source": [
        "# 7. Registro dos dados medidos"
      ]
    },
    {
      "cell_type": "markdown",
      "metadata": {
        "id": "uJ9R358-K0HL"
      },
      "source": [
        "Deve conter as tabelas dos dados medidos crus bem como a descrição detalhada do conteúdo de cada tabela.\n"
      ]
    },
    {
      "cell_type": "markdown",
      "metadata": {
        "id": "_kZuVuRIfNxn"
      },
      "source": [
        "## 7.1 Exemplo de registro de dados referentes à cinemática de dois corpos sob ação da gravidade"
      ]
    },
    {
      "cell_type": "code",
      "metadata": {
        "id": "nvw5vzXmfeed",
        "colab": {
          "base_uri": "https://localhost:8080/"
        },
        "outputId": "b317cb60-33b4-4a22-beb5-f647152814aa"
      },
      "source": [
        "#title\n",
        "dadosBola1 = Dados()\n",
        "dadosBola2 = Dados()\n",
        "dadosBola1.importGoogleSheet('https://docs.google.com/spreadsheets/d/1lvwrhg7KGJmtptJwSueHUWI_RpjAi19ty0q1XHPHkDg/edit?usp=sharing', 'Bola1')\n",
        "dadosBola2.importGoogleSheet('https://docs.google.com/spreadsheets/d/1lvwrhg7KGJmtptJwSueHUWI_RpjAi19ty0q1XHPHkDg/edit#gid=0', 'Bola2')"
      ],
      "execution_count": null,
      "outputs": [
        {
          "output_type": "stream",
          "text": [
            "Resultado da importação da aba Bola1:\n",
            "-------------------------------------------------\n",
            "Coluna das abscissas (X) encontrada na coluna 0 com rótulo Tempo (X) [s]\n",
            "Coluna das ordenadas (Y) encontrada na coluna 1 com rótulo  Posição (Y) [m]\n",
            "Coluna de erros das abscissas (Xe) encontrada na coluna 2 com rótulo Erro Tempo (Xe) [s]\n",
            "Coluna de erros das ordenadas (Ye) encontrada na coluna 3 com rótulo Erro Posição (Ye) [m]\n",
            "\n",
            "Resultado da importação da aba Bola2:\n",
            "-------------------------------------------------\n",
            "Coluna das abscissas (X) encontrada na coluna 0 com rótulo Tempo (X) [s]\n",
            "Coluna das ordenadas (Y) encontrada na coluna 1 com rótulo  Posição (Y) [m]\n",
            "Coluna de erros das abscissas (Xe) não encontrada.\n",
            "Coluna de erros das ordenadas (Ye) não encontrada.\n",
            "\n"
          ],
          "name": "stdout"
        }
      ]
    },
    {
      "cell_type": "code",
      "metadata": {
        "colab": {
          "base_uri": "https://localhost:8080/",
          "height": 359
        },
        "id": "SpMdXNdJg93l",
        "outputId": "a1c6c7e3-5393-4ce9-ae9c-40f5571ca6cc"
      },
      "source": [
        "#title\n",
        "dadosBola1.showData()"
      ],
      "execution_count": null,
      "outputs": [
        {
          "output_type": "display_data",
          "data": {
            "text/html": [
              "<table border=\"1\" class=\"dataframe\">\n",
              "  <thead>\n",
              "    <tr style=\"text-align: right;\">\n",
              "      <th></th>\n",
              "      <th>0</th>\n",
              "      <th>1</th>\n",
              "      <th>2</th>\n",
              "      <th>3</th>\n",
              "    </tr>\n",
              "  </thead>\n",
              "  <tbody>\n",
              "    <tr>\n",
              "      <th>0</th>\n",
              "      <td>Tempo (X) [s]</td>\n",
              "      <td>Posição (Y) [m]</td>\n",
              "      <td>Erro Tempo (Xe) [s]</td>\n",
              "      <td>Erro Posição (Ye) [m]</td>\n",
              "    </tr>\n",
              "    <tr>\n",
              "      <th>1</th>\n",
              "      <td>1</td>\n",
              "      <td>1</td>\n",
              "      <td>0,5</td>\n",
              "      <td>0,8</td>\n",
              "    </tr>\n",
              "    <tr>\n",
              "      <th>2</th>\n",
              "      <td>2</td>\n",
              "      <td>6</td>\n",
              "      <td>0,5</td>\n",
              "      <td>0,8</td>\n",
              "    </tr>\n",
              "    <tr>\n",
              "      <th>3</th>\n",
              "      <td>3</td>\n",
              "      <td>8</td>\n",
              "      <td>0,5</td>\n",
              "      <td>0,8</td>\n",
              "    </tr>\n",
              "    <tr>\n",
              "      <th>4</th>\n",
              "      <td>4</td>\n",
              "      <td>15</td>\n",
              "      <td>0,5</td>\n",
              "      <td>0,8</td>\n",
              "    </tr>\n",
              "    <tr>\n",
              "      <th>5</th>\n",
              "      <td>5</td>\n",
              "      <td>25</td>\n",
              "      <td>0,5</td>\n",
              "      <td>0,8</td>\n",
              "    </tr>\n",
              "    <tr>\n",
              "      <th>6</th>\n",
              "      <td>6</td>\n",
              "      <td>33</td>\n",
              "      <td>0,5</td>\n",
              "      <td>0,8</td>\n",
              "    </tr>\n",
              "    <tr>\n",
              "      <th>7</th>\n",
              "      <td>7</td>\n",
              "      <td>53</td>\n",
              "      <td>0,5</td>\n",
              "      <td>0,8</td>\n",
              "    </tr>\n",
              "    <tr>\n",
              "      <th>8</th>\n",
              "      <td>8</td>\n",
              "      <td>62</td>\n",
              "      <td>0,5</td>\n",
              "      <td>0,8</td>\n",
              "    </tr>\n",
              "    <tr>\n",
              "      <th>9</th>\n",
              "      <td>9</td>\n",
              "      <td>80</td>\n",
              "      <td>0,5</td>\n",
              "      <td>0,8</td>\n",
              "    </tr>\n",
              "  </tbody>\n",
              "</table>"
            ],
            "text/plain": [
              "<IPython.core.display.HTML object>"
            ]
          },
          "metadata": {}
        }
      ]
    },
    {
      "cell_type": "markdown",
      "metadata": {
        "id": "rgzotcQ2g1NF"
      },
      "source": [
        "**Tabela 1** - Cinemática da esfera em queda livre"
      ]
    },
    {
      "cell_type": "code",
      "metadata": {
        "colab": {
          "base_uri": "https://localhost:8080/",
          "height": 359
        },
        "id": "V111zAFthQT0",
        "outputId": "0e652858-9434-459d-889e-f67f318de04e"
      },
      "source": [
        "#title\n",
        "dadosBola2.showData()"
      ],
      "execution_count": null,
      "outputs": [
        {
          "output_type": "display_data",
          "data": {
            "text/html": [
              "<table border=\"1\" class=\"dataframe\">\n",
              "  <thead>\n",
              "    <tr style=\"text-align: right;\">\n",
              "      <th></th>\n",
              "      <th>0</th>\n",
              "      <th>1</th>\n",
              "    </tr>\n",
              "  </thead>\n",
              "  <tbody>\n",
              "    <tr>\n",
              "      <th>0</th>\n",
              "      <td>Tempo (X) [s]</td>\n",
              "      <td>Posição (Y) [m]</td>\n",
              "    </tr>\n",
              "    <tr>\n",
              "      <th>1</th>\n",
              "      <td>1</td>\n",
              "      <td>0</td>\n",
              "    </tr>\n",
              "    <tr>\n",
              "      <th>2</th>\n",
              "      <td>2</td>\n",
              "      <td>10</td>\n",
              "    </tr>\n",
              "    <tr>\n",
              "      <th>3</th>\n",
              "      <td>3</td>\n",
              "      <td>22</td>\n",
              "    </tr>\n",
              "    <tr>\n",
              "      <th>4</th>\n",
              "      <td>4</td>\n",
              "      <td>29</td>\n",
              "    </tr>\n",
              "    <tr>\n",
              "      <th>5</th>\n",
              "      <td>5</td>\n",
              "      <td>43</td>\n",
              "    </tr>\n",
              "    <tr>\n",
              "      <th>6</th>\n",
              "      <td>6</td>\n",
              "      <td>51</td>\n",
              "    </tr>\n",
              "    <tr>\n",
              "      <th>7</th>\n",
              "      <td>7</td>\n",
              "      <td>59</td>\n",
              "    </tr>\n",
              "    <tr>\n",
              "      <th>8</th>\n",
              "      <td>8</td>\n",
              "      <td>67</td>\n",
              "    </tr>\n",
              "    <tr>\n",
              "      <th>9</th>\n",
              "      <td>9</td>\n",
              "      <td>78</td>\n",
              "    </tr>\n",
              "  </tbody>\n",
              "</table>"
            ],
            "text/plain": [
              "<IPython.core.display.HTML object>"
            ]
          },
          "metadata": {}
        }
      ]
    },
    {
      "cell_type": "markdown",
      "metadata": {
        "id": "3g6yEYCvhW5d"
      },
      "source": [
        "**Tabela 2** - Cinemática da esfera em velocidade terminal"
      ]
    },
    {
      "cell_type": "markdown",
      "metadata": {
        "id": "VOzLKIPhi3ak"
      },
      "source": [
        "# 8. Tratamento dos dados e análise dos resultados"
      ]
    },
    {
      "cell_type": "markdown",
      "metadata": {
        "id": "ZXgU8J1VbWs3"
      },
      "source": [
        "Deve conter o tratamento dos dados, incluindo qualquer modificação que eventualmente tenha ocorrido em relação ao planejado no pré-relatório. Para a exposição dos dados deverá ser dada preferência aos gráficos. Mas histogramas, tabelas e diagramas também poderão ser utilizados. No caso, das tabelas, deve-se incluir aqui somente as tabelas com dados que sofreram algum tipo de tratamento ou processamento. Para todos os cálculos aplicados aos dados experimentais, deve-se fazer menção explícita às equações do modelo numeradas na seção de Fundamentação Teórica.\n",
        "\n",
        "Deve-se também fazer uma confrontação com os resultados e erros estimados na seção *Estimativa de resultados e propagação de erros*."
      ]
    },
    {
      "cell_type": "markdown",
      "metadata": {
        "id": "-IJvCxAGkSgT"
      },
      "source": [
        "## 8.1 Ajuste do modelo teórico aos dados da Tabela 1 (**queda livre**)"
      ]
    },
    {
      "cell_type": "code",
      "metadata": {
        "colab": {
          "base_uri": "https://localhost:8080/"
        },
        "id": "F-dSmmi3kSgm",
        "outputId": "51f330c7-6470-4edf-cea1-816be0e7dc61"
      },
      "source": [
        "dadosBola1.fname = 'quadrático'\n",
        "dadosBola1.func = lambda x, *a: a[0]*(x**2) + a[1]*(x) + a[2]\n",
        "dadosBola1.pname = ['acel', 'vini', 'x0']\n",
        "dadosBola1.pini = [1, 1, 1]\n",
        "dadosBola1.fitFunc()\n",
        "dadosBola1.info()"
      ],
      "execution_count": null,
      "outputs": [
        {
          "output_type": "stream",
          "text": [
            "Nome do conjunto de dados: dados sem nome\n",
            "Número de pontos: 9\n",
            "Função de ajuste: quadrático\n",
            "Parâmetros ajustados:\n",
            "   acel: 1.017316 +/- 0.136429\n",
            "   vini: -0.306494 +/- 1.398868\n",
            "   x0: 0.761905 +/- 3.046573\n",
            "Coeficiente de correlação de Pearson: 0.9972\n",
            "P-value: 0.0000\n",
            "Representação gráfica: ko\n"
          ],
          "name": "stdout"
        }
      ]
    },
    {
      "cell_type": "markdown",
      "metadata": {
        "id": "G0TV1aTJhy62"
      },
      "source": [
        "## 8.2 Ajuste do modelo teórico aos dados da Tabela 2 (velocidade terminal)"
      ]
    },
    {
      "cell_type": "code",
      "metadata": {
        "colab": {
          "base_uri": "https://localhost:8080/"
        },
        "id": "2Cv3ErXrina9",
        "outputId": "283326e0-ffc5-4578-92e2-584dd09083fa"
      },
      "source": [
        "dadosBola2.fname = 'linear'\n",
        "dadosBola2.dname = 'Bola 2'\n",
        "dadosBola2.fitFunc()\n",
        "dadosBola2.info()"
      ],
      "execution_count": null,
      "outputs": [
        {
          "output_type": "stream",
          "text": [
            "Nome do conjunto de dados: Bola 2\n",
            "Número de pontos: 9\n",
            "Função de ajuste: linear\n",
            "Parâmetros ajustados:\n",
            "   coef. angular: 9.650000 +/- 0.226458\n",
            "   coef. linear: -8.361111 +/- 1.274348\n",
            "Coeficiente de correlação de Pearson: 0.9981\n",
            "P-value: 0.0000\n",
            "Representação gráfica: ko\n"
          ],
          "name": "stdout"
        }
      ]
    },
    {
      "cell_type": "markdown",
      "metadata": {
        "id": "5q2FCjZMlsb5"
      },
      "source": [
        "## 8.3 Gráficos da cinemática das esferas"
      ]
    },
    {
      "cell_type": "code",
      "metadata": {
        "colab": {
          "base_uri": "https://localhost:8080/",
          "height": 279
        },
        "id": "6i7qJAG2l3_Z",
        "outputId": "cae4a9c5-9f00-4389-98d6-7222ca4453e9"
      },
      "source": [
        "dadosBola1.egraph = True\n",
        "dadosBola2.egraph = True\n",
        "\n",
        "dadosBola1.symb = 'ko'\n",
        "dadosBola2.symb = 'r^'\n",
        "\n",
        "Grafs = Graficos([dadosBola1, dadosBola2])\n",
        "Grafs.leglocation = 'upper left'\n",
        "Grafs.createPlot()"
      ],
      "execution_count": null,
      "outputs": [
        {
          "output_type": "display_data",
          "data": {
            "image/png": "[encoded data removed]",
            "text/plain": [
              "<Figure size 432x288 with 1 Axes>"
            ]
          },
          "metadata": {
            "needs_background": "light"
          }
        }
      ]
    },
    {
      "cell_type": "markdown",
      "metadata": {
        "id": "BDX9USLam72m"
      },
      "source": [
        "**Gráfico 1** - Comparativo entre as esferas nos dois regimes distintos de movimento"
      ]
    },
    {
      "cell_type": "markdown",
      "metadata": {
        "id": "299T1aDBjAZU"
      },
      "source": [
        "# 9. Conclusões"
      ]
    },
    {
      "cell_type": "markdown",
      "metadata": {
        "id": "dnHydYBScOpq"
      },
      "source": [
        "Os principais resultados qualitativos e QUANTITATIVOS devem ser resumidos e analisados de forma crítica em comparação com os objetivos elencados na seção *Objetivos*. Não forneça conclusões vagas ou referentes aos aspectos psicológicos que a realização do experimento produziu nos autores. "
      ]
    },
    {
      "cell_type": "code",
      "metadata": {
        "colab": {
          "base_uri": "https://localhost:8080/"
        },
        "id": "QbYw1e-2deFN",
        "outputId": "b9c561db-0848-4a79-cc3d-7094f8575072"
      },
      "source": [
        "help(Dados)"
      ],
      "execution_count": null,
      "outputs": [
        {
          "output_type": "stream",
          "text": [
            "Help on class Dados in module LabFisModColab:\n",
            "\n",
            "class Dados(builtins.object)\n",
            " |  Methods defined here:\n",
            " |  \n",
            " |  __init__(self)\n",
            " |      Classe para tratamento de dados bidimensionais.\n",
            " |      \n",
            " |      self.dname: string representando o nome do conjunto de dados (default = 'dados sem nome')\n",
            " |      self.X: lista do conjunto de dados da variável independente (abscissa)\n",
            " |      self.Y: lista do conjunto de dados da variável dependente (ordenada)\n",
            " |      self.Xe: lista dos erros associados a cada elemento de self.X\n",
            " |      self.Ye: lista dos erros associados a cada elemento de self.X\n",
            " |      \n",
            " |      self.fname: string do nome da função de ajuste (default = 'linear')\n",
            " |      self.func: função a ser ajustada ao conjunto de dados\n",
            " |      self.fN: número de pontos para plotagem de self.func (default = 100)\n",
            " |      self.fXrange: [xmin, xmax] correspondendo aos valores máximo e mínimo na plotagem de self.func (default = intervalo completo)\n",
            " |      \n",
            " |      self.dlegen: mostra self.dname na legenda do gráfico (default = True)\n",
            " |      self.flegen: mostra self.fname na legenda do gráfico (default = True)\n",
            " |      self.dgraph: mostra os dados (self.X, self.Y) no gráfico (default = True)\n",
            " |      self.egraph: mostra as barras de erros (self.Xe, self.Ye) no gráfico (default = True)\n",
            " |      self.fgraph: mostra a curva de self.func no gráfico (default = True)\n",
            " |      \n",
            " |      self.pname = lista de strings dos nomes dos parâmetros de ajuste (default = 'p0', 'p1', ...)\n",
            " |      self.pini: lista de valores iniciais para os parâmetros da função de ajuste\n",
            " |      self.popt: lista de parâmetros optimos obtidos do ajuste de self.func\n",
            " |      self.perr: lista de erros associados a cada parâmetro de self.popt\n",
            " |      self.person: valor do coeficiente de correlação de Pearson (https://en.wikipedia.org/wiki/Pearson_correlation_coefficient)\n",
            " |      self.pvalue: p-value ou probability value (confiável para 500 ou mais amostras) (https://en.wikipedia.org/wiki/P-value) e (https://docs.scipy.org/doc/scipy-0.14.0/reference/generated/scipy.stats.pearsonr.html)\n",
            " |      \n",
            " |      self.symb: string que representa formato, cor e ligação dos dados no gráfico\n",
            " |      i-ésimo conjunto de dados:\n",
            " |          Ex: 'bo'  -> blue circle symbol\n",
            " |              'r-'  -> red line\n",
            " |              'g--' -> green dashed line\n",
            " |              'r^-' -> red triangle symbol conected by lines\n",
            " |              'ko-' -> black circle symbol conected by lines\n",
            " |              Default: 'ko'\n",
            " |  \n",
            " |  fitFunc(self)\n",
            " |      Realiza o ajuste dos dados à função escolhida, calcula os parâmetros de ajuste self.popt e self.perr e gera os pontos de self.func\n",
            " |  \n",
            " |  importGoogleSheet(self, worksheetURL, sheetName='Página1', firstRow=1, lastRow=None)\n",
            " |      Importa dados de planilha Google Sheet e cria os arrays self.X, self.Y e, opcionalmente, self.Xe e self.Ye. O cabeçalho da coluna da abscissa deve conter (X)\n",
            " |      \n",
            " |      worksheetURL: link url da planilha google\n",
            " |      sheetName: nome da aba da planilha que contém dos dados de interesse (padrão = 'Página1')        \n",
            " |      firstRow: primeira linha de dados a serem considerados na planilha (padrão = 1, esse é o caso quando o cabeçalho está na linha 0)\n",
            " |      lastRow: última linha de dados a serem considerados na planilha (padrão = última linha de dados da planilha)\n",
            " |  \n",
            " |  info(self)\n",
            " |      Imprime todas as propriedades dos dados.\n",
            " |  \n",
            " |  showData(self)\n",
            " |  \n",
            " |  ----------------------------------------------------------------------\n",
            " |  Data descriptors defined here:\n",
            " |  \n",
            " |  __dict__\n",
            " |      dictionary for instance variables (if defined)\n",
            " |  \n",
            " |  __weakref__\n",
            " |      list of weak references to the object (if defined)\n",
            "\n"
          ],
          "name": "stdout"
        }
      ]
    },
    {
      "cell_type": "code",
      "metadata": {
        "colab": {
          "base_uri": "https://localhost:8080/"
        },
        "id": "IdV5-FRJ9MqD",
        "outputId": "d204b016-4387-4333-f9cd-34d6a47be06d"
      },
      "source": [
        "help(Graficos)"
      ],
      "execution_count": null,
      "outputs": [
        {
          "output_type": "stream",
          "text": [
            "Help on class Graficos in module LabFisModColab:\n",
            "\n",
            "class Graficos(builtins.object)\n",
            " |  Graficos(DadosL)\n",
            " |  \n",
            " |  Methods defined here:\n",
            " |  \n",
            " |  __init__(self, DadosL)\n",
            " |      Classe para graficar objetos da classe Dados.\n",
            " |      \n",
            " |      DadosL: lista de objetos da classe Dados que serão graficados.\n",
            " |      self.capsize: largura do delimitador da barra de erros (default = 5)\n",
            " |      self.capthick: espessura da barra de erros (default = 1)\n",
            " |      self.leglocation: localização da legenda (default = 'upper right')\n",
            " |      self.legfontsize: tamanho da fonte da legenda (default = 'medium')\n",
            " |      self.xlabel: legenda do eixo X\n",
            " |      self.ylabel: legenda do eixo Y\n",
            " |      self.lshow: mostrar legenda (default = True)\n",
            " |  \n",
            " |  addDados(self, dado)\n",
            " |      Adiciona um objeto da classe Dados à lista self.dadosL.\n",
            " |      dado: objeto da classe Dados a ser adicionado.\n",
            " |  \n",
            " |  createPlot(self)\n",
            " |      Cria o gráfico referente à lista self.dadosL\n",
            " |  \n",
            " |  removeDados(self, n)\n",
            " |      Remove objeto da classe Dados da lista self.dadosL na\n",
            " |      posição n da lista.\n",
            " |      n: posição do objeto a ser removido na lista self.dadosL\n",
            " |  \n",
            " |  ----------------------------------------------------------------------\n",
            " |  Data descriptors defined here:\n",
            " |  \n",
            " |  __dict__\n",
            " |      dictionary for instance variables (if defined)\n",
            " |  \n",
            " |  __weakref__\n",
            " |      list of weak references to the object (if defined)\n",
            "\n"
          ],
          "name": "stdout"
        }
      ]
    },
    {
      "cell_type": "code",
      "metadata": {
        "id": "x55XgUqXfXV2"
      },
      "source": [
        ""
      ],
      "execution_count": null,
      "outputs": []
    }
  ]
}